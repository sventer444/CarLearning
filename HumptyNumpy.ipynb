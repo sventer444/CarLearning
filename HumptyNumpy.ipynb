{
 "cells": [
  {
   "cell_type": "code",
   "execution_count": 1,
   "id": "b84b98eb",
   "metadata": {},
   "outputs": [
    {
     "name": "stdout",
     "output_type": "stream",
     "text": [
      "[2, 12, 36]\n"
     ]
    }
   ],
   "source": [
    "listThree = list(range(1,4))\n",
    "listTwo = list(range(1,4))\n",
    "listSum = []\n",
    "\n",
    "for index in range(3):\n",
    "        listTwo[index] = listTwo[index] ** 2\n",
    "        listThree[index] = listThree[index] ** 3\n",
    "        listSum.append(listTwo[index] + listThree[index])\n",
    "print(listSum)"
   ]
  },
  {
   "cell_type": "code",
   "execution_count": 3,
   "id": "ee68ac66",
   "metadata": {},
   "outputs": [
    {
     "name": "stdout",
     "output_type": "stream",
     "text": [
      "[ 2 12 36]\n"
     ]
    }
   ],
   "source": [
    "import numpy as np\n",
    "array_two = np.arange(1, 4) ** 2\n",
    "array_three = np.arange(1,4) ** 3\n",
    "print(array_two + array_three)"
   ]
  },
  {
   "cell_type": "code",
   "execution_count": 5,
   "id": "d7192fdb",
   "metadata": {},
   "outputs": [
    {
     "name": "stdout",
     "output_type": "stream",
     "text": [
      "[ 1 16 81]\n"
     ]
    }
   ],
   "source": [
    "print(np.power(np.array([1,2,3]), 4))"
   ]
  },
  {
   "cell_type": "code",
   "execution_count": null,
   "id": "a40c956e",
   "metadata": {},
   "outputs": [],
   "source": []
  }
 ],
 "metadata": {
  "kernelspec": {
   "display_name": "Python 3 (ipykernel)",
   "language": "python",
   "name": "python3"
  },
  "language_info": {
   "codemirror_mode": {
    "name": "ipython",
    "version": 3
   },
   "file_extension": ".py",
   "mimetype": "text/x-python",
   "name": "python",
   "nbconvert_exporter": "python",
   "pygments_lexer": "ipython3",
   "version": "3.9.12"
  }
 },
 "nbformat": 4,
 "nbformat_minor": 5
}
