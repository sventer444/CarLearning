{
 "cells": [
  {
   "cell_type": "code",
   "execution_count": 1,
   "id": "b84b98eb",
   "metadata": {},
   "outputs": [
    {
     "name": "stdout",
     "output_type": "stream",
     "text": [
      "[2, 12, 36]\n"
     ]
    }
   ],
   "source": [
    "listThree = list(range(1,4))\n",
    "listTwo = list(range(1,4))\n",
    "listSum = []\n",
    "\n",
    "for index in range(3):\n",
    "        listTwo[index] = listTwo[index] ** 2\n",
    "        listThree[index] = listThree[index] ** 3\n",
    "        listSum.append(listTwo[index] + listThree[index])\n",
    "print(listSum)"
   ]
  },
  {
   "cell_type": "code",
   "execution_count": 3,
   "id": "ee68ac66",
   "metadata": {},
   "outputs": [
    {
     "name": "stdout",
     "output_type": "stream",
     "text": [
      "[ 2 12 36]\n"
     ]
    }
   ],
   "source": [
    "import numpy as np\n",
    "array_two = np.arange(1, 4) ** 2\n",
    "array_three = np.arange(1,4) ** 3\n",
    "print(array_two + array_three)"
   ]
  },
  {
   "cell_type": "code",
   "execution_count": 5,
   "id": "d7192fdb",
   "metadata": {},
   "outputs": [
    {
     "name": "stdout",
     "output_type": "stream",
     "text": [
      "[ 1 16 81]\n"
     ]
    }
   ],
   "source": [
    "print(np.power(np.array([1,2,3]), 4))"
   ]
  },
  {
   "cell_type": "code",
   "execution_count": 2,
   "id": "a40c956e",
   "metadata": {},
   "outputs": [
    {
     "name": "stdout",
     "output_type": "stream",
     "text": [
      "[[0 1 2]\n",
      " [0 1 2]\n",
      " [0 1 2]]\n"
     ]
    }
   ],
   "source": [
    "import numpy as np\n",
    "x = np.arange(3)\n",
    "y = np.arange(3)\n",
    "z = np.arange(3)\n",
    "multi_array = np.array([x, y, z ])\n",
    "print(multi_array)"
   ]
  },
  {
   "cell_type": "code",
   "execution_count": 4,
   "id": "43a0990e",
   "metadata": {},
   "outputs": [
    {
     "name": "stdout",
     "output_type": "stream",
     "text": [
      "[ 1.          1.09090909  1.18181818  1.27272727  1.36363636  1.45454545\n",
      "  1.54545455  1.63636364  1.72727273  1.81818182  1.90909091  2.\n",
      "  2.09090909  2.18181818  2.27272727  2.36363636  2.45454545  2.54545455\n",
      "  2.63636364  2.72727273  2.81818182  2.90909091  3.          3.09090909\n",
      "  3.18181818  3.27272727  3.36363636  3.45454545  3.54545455  3.63636364\n",
      "  3.72727273  3.81818182  3.90909091  4.          4.09090909  4.18181818\n",
      "  4.27272727  4.36363636  4.45454545  4.54545455  4.63636364  4.72727273\n",
      "  4.81818182  4.90909091  5.          5.09090909  5.18181818  5.27272727\n",
      "  5.36363636  5.45454545  5.54545455  5.63636364  5.72727273  5.81818182\n",
      "  5.90909091  6.          6.09090909  6.18181818  6.27272727  6.36363636\n",
      "  6.45454545  6.54545455  6.63636364  6.72727273  6.81818182  6.90909091\n",
      "  7.          7.09090909  7.18181818  7.27272727  7.36363636  7.45454545\n",
      "  7.54545455  7.63636364  7.72727273  7.81818182  7.90909091  8.\n",
      "  8.09090909  8.18181818  8.27272727  8.36363636  8.45454545  8.54545455\n",
      "  8.63636364  8.72727273  8.81818182  8.90909091  9.          9.09090909\n",
      "  9.18181818  9.27272727  9.36363636  9.45454545  9.54545455  9.63636364\n",
      "  9.72727273  9.81818182  9.90909091 10.        ]\n"
     ]
    }
   ],
   "source": [
    "w = np.linspace(1,10, 100)\n",
    "print(w)"
   ]
  },
  {
   "cell_type": "code",
   "execution_count": 5,
   "id": "37e421c4",
   "metadata": {},
   "outputs": [
    {
     "name": "stdout",
     "output_type": "stream",
     "text": [
      "[1 2 3 4 5 6 7 8 9]\n"
     ]
    }
   ],
   "source": [
    "import numpy as np\n",
    "x = np.arange(1, 10)\n",
    "print(x)"
   ]
  },
  {
   "cell_type": "code",
   "execution_count": 6,
   "id": "c7717a69",
   "metadata": {},
   "outputs": [
    {
     "name": "stdout",
     "output_type": "stream",
     "text": [
      "[3 5 7]\n"
     ]
    }
   ],
   "source": [
    "print(x[2:7:2])"
   ]
  },
  {
   "cell_type": "code",
   "execution_count": 10,
   "id": "7f8943d9",
   "metadata": {},
   "outputs": [
    {
     "name": "stdout",
     "output_type": "stream",
     "text": [
      "[[0 1 2]\n",
      " [3 4 5]\n",
      " [6 7 8]]\n",
      "[[[ 0  1  2]\n",
      "  [ 3  4  5]\n",
      "  [ 6  7  8]]\n",
      "\n",
      " [[ 9 10 11]\n",
      "  [12 13 14]\n",
      "  [15 16 17]]]\n"
     ]
    }
   ],
   "source": [
    "x = np.arange(9).reshape(3, -1)\n",
    "print(x)\n",
    "y = np.arange(18).reshape(2,3,3)\n",
    "print(y)"
   ]
  },
  {
   "cell_type": "code",
   "execution_count": null,
   "id": "2156e2fb",
   "metadata": {},
   "outputs": [],
   "source": []
  }
 ],
 "metadata": {
  "kernelspec": {
   "display_name": "Python 3 (ipykernel)",
   "language": "python",
   "name": "python3"
  },
  "language_info": {
   "codemirror_mode": {
    "name": "ipython",
    "version": 3
   },
   "file_extension": ".py",
   "mimetype": "text/x-python",
   "name": "python",
   "nbconvert_exporter": "python",
   "pygments_lexer": "ipython3",
   "version": "3.9.12"
  }
 },
 "nbformat": 4,
 "nbformat_minor": 5
}
